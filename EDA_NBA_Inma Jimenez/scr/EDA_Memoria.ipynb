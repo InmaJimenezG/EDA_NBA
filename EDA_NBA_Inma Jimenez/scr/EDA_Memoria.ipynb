{
 "cells": [
  {
   "cell_type": "markdown",
   "id": "90825cc0",
   "metadata": {},
   "source": [
    "\n",
    "<div style=\"text-align: center\"> \n",
    "    \n",
    "# Memoria - EDA\n",
    "### Inma Jiménez García"
   ]
  },
  {
   "cell_type": "markdown",
   "id": "9145a538",
   "metadata": {},
   "source": [
    "#### **Link al repo en GitHub**:"
   ]
  },
  {
   "cell_type": "markdown",
   "id": "ebb341cc",
   "metadata": {},
   "source": [
    "## Índice\n",
    "\n",
    "1. [Elección de la temática](#1.-Elección-de-la-temática)\n",
    "2. [Hipótesis](#2.-Hipótesis)\n",
    "3. [Fuentes](#3.-Fuentes)\n",
    "4. [Preprocesado de datos](#4.-Preprocesado-de-datos)\n",
    "5. [Data Preparation & Data Cleaning](#5.-Data-Preparation-&-Data-Cleaning)\n",
    "6. [Análisis de datos](#6.-Análisis-de-datos)\n",
    "7. [Conclusiones](#7.-Conclusiones)\n",
    "8. [Recomendaciones](#8.-Recomendaciones)\n",
    "9. [Limitaciones técnicas](#9.-Limitaciones-técnicas)\n",
    "10. [Referencias](#10.-Referencias)"
   ]
  },
  {
   "cell_type": "markdown",
   "id": "f6d9702e",
   "metadata": {},
   "source": [
    "## 1. Elección de la temática"
   ]
  },
  {
   "cell_type": "markdown",
   "id": "74c6e942",
   "metadata": {},
   "source": [
    "Esta temática ha sido elegida por la relevancia del deporte en general y, más específicamente la liga NBA.\n",
    "\n",
    "El deporte ha sufrido grandes cambios a lo largo de los últimos años, ya no solo en la comprensión del mismo sino también por el impacto que han tenido acontecimientos como la pandemia del COVID-19.\n",
    "\n",
    "En particular, el baloncesto NBA del que se disfruta hoy en día no tiene nada que ver con el baloncesto que jugaban Larry Bird y Magic Johnson, o incluso Michael Jordan. En concreto, el análisis sobre como ha evolucionado el juego en esta lista es especialmente interesante para este análisis por el cambio generacional en el que se encuentra.\n",
    "\n",
    "Por todas estas razones, se ha decidido analizar cómo ha cambiado el baloncesto NBA en estos últimos años, además de cómo han impactado los eventos acontecidos a nivel mundial sobre este deporte."
   ]
  },
  {
   "cell_type": "markdown",
   "id": "3cc70a48",
   "metadata": {},
   "source": [
    "## 2. Hipótesis"
   ]
  },
  {
   "cell_type": "markdown",
   "id": "7890b1a7",
   "metadata": {},
   "source": [
    "Se han definido las siguientes hipótesis a comprobar:\n",
    "    \n",
    "1. La pandemia del COVID-19 ha afectado al rendimiento de los jugadores.\n",
    "\n",
    "\n",
    "2. El enfoque de juego ha cambiado en tanto a los minutos jugados en total, puntos logrados en total, a nivel de posiciones de juego, así como número de tiros de campo, tiros libres y tiros de triple intentados y encestados.\n",
    "\n",
    "\n",
    "3. Los años de experiencia de los jugadores en particular, y del equipo en global, correlaciona con la valoración (denominada PIR en el proyecto) de los jugadores y del equipo."
   ]
  },
  {
   "cell_type": "markdown",
   "id": "6e8c3af4",
   "metadata": {},
   "source": [
    "## 3. Fuentes"
   ]
  },
  {
   "cell_type": "markdown",
   "id": "9f772368",
   "metadata": {},
   "source": [
    "Los datos fueron obtenidos directamente de la API de la web oficial de la NBA - [NBA.com/statistics](https://es.global.nba.com/statistics/) -. Para ello se inspeccionó dicha web hasta conseguir la URL de la misma y poder lanzarle peticiones.\n",
    "\n",
    "Desde la API se pudo acceder a los siguientes datos:\n",
    "\n",
    "1. Información general de la temporada y año de juego.\n",
    "\n",
    "\n",
    "2. Información relativa los datos personales de todos los jugados de la NBA por temporada.\n",
    "\n",
    "\n",
    "3. Información específica de sobre los estadísticos de todos los jugados de la NBA por temporada."
   ]
  },
  {
   "cell_type": "markdown",
   "id": "1dd00edf",
   "metadata": {},
   "source": [
    "## 4. Preprocesado de datos"
   ]
  },
  {
   "cell_type": "markdown",
   "id": "dc6ddbbb",
   "metadata": {},
   "source": [
    "Una vez conseguida la API de la web de la NBA, se obtuvo un JSON a través de requests realizados directamente sobre la URL de la API.\n",
    "Para conseguir colectar todos los datos necesarios para el posterior análisis, se fue accediendo a las diferentes listas que comprender el JSON y extrayendo dicha información en 2 listas:\n",
    "\n",
    "  - Lista con todos los datos relevantes sobre la temporada.\n",
    "  - Lista con todos los datos significativos de los estadísticos de los jugadores a nivel individual.\n",
    "        \n",
    "Una vez obtenidas estas 2 listas, se agruparon individualmente en DataFrames (uno por año de temporada), y finalmente se unieron todos los DataFrames en uno solo, el cuál será el DataSet sobre el que se realizará el análisis exploratorio de los datos."
   ]
  },
  {
   "cell_type": "markdown",
   "id": "6d13fb58",
   "metadata": {},
   "source": [
    "### Descripcion de los datos:  \n",
    "\n",
    "+ **temporada :** `año de la temporada`\n",
    "+ **year :** `año de comienzo de la temporada`\n",
    "+ **id_jugador :** `ID del jugador`                        \n",
    "+ **nombre_jugador :** `nombre del jugador`                      \n",
    "+ **draft_anio :** `año en el que se seleccionó al jugador para formar parte de la NBA`\n",
    "+ **posicion :**  `posición de juego`                   \n",
    "+ **altura :** `altura  del jugador en cm`                        \n",
    "+ **peso :** `peso del jugador en kg`                   \n",
    "+ **ciudad_equipo :** `ciudad a la que pertenece el equipo`              \n",
    "+ **nombre_equipo :** `nombre del equipo`                \n",
    "+ **conferencia :**  `conferencia del equipo`                  \n",
    "+ **partidos_jugados :**  `número de partidos jugador por el jugador`\n",
    "+ **asistencias_pp :** `número de asistencias del jugador por partido`                  \n",
    "+ **tapones_pp :** `número de tapones por partido`                  \n",
    "+ **eficiencia_tiro_pp :** `porcentaje de acierto total de tiro`            \n",
    "+ **tci_pp :** `tiros de campo intentados por partido`          \n",
    "+ **tce_pp :** `tiros de campo encestados por partido`\n",
    "+ **porcentaje_tc_pp :** `porcentaje de tiros de campo por partido`   \n",
    "+ **tli_pp :** `tiros libres intentados por partido`              \n",
    "+ **tle_pp :** `tiros libres encestados por partido`\n",
    "+ **porcentaje_tl_pp :** `porcentaje de tiros libres por partido`  \n",
    "+ **tti_pp :**  `tiros de triple intentados por partido`                 \n",
    "+ **tte_pp :**  `Canal de ventas (primer contacto compañia-cliente)`                 \n",
    "+ **porcentaje_tt_pp :** `porcentaje de tiro de triple por partido`              \n",
    "+ **puntos_pp :**  `puntos por partido`                 \n",
    "+ **minutos_pp :**  `minutos jugados por partido` \n",
    "+ **reb_def_pp :** `rebotes defensivos por partido`                  \n",
    "+ **reb_of_pp :** `rebotes ofensivos por partido`            \n",
    "+ **total_rebotes_pp :** `total de reobotes por partido`          \n",
    "+ **faltas_pp :** `faltas por partido`\n",
    "+ **robos_pp :** `robos de balón por partido` \n",
    "+ **perdidas_pp :** `pérdidas de balón por partido`              \n",
    "+ **asistencias_total :** `número de asistencias en total`\n",
    "+ **tapones_total :** `número de tapones en total`  \n",
    "+ **eficiencia_tiro_total :**  `porcentaje de acierto de tiro en total`\n",
    "+ **tci_total :** `número total de tiros de campo intentados`          \n",
    "+ **tce_total :** `número total de tiros de campo encestados`\n",
    "+ **porcentaje_tc_total :** `porcentaje del total de tiros de campo`   \n",
    "+ **tli_total :** `número total de tiros libres intentados`              \n",
    "+ **tle_total :** `número total de tiros libres encestados`\n",
    "+ **porcentaje_tl_total :** `porcentaje del total de tiros libres`  \n",
    "+ **tti_total :**  `número total de tiros de triple intentados`                 \n",
    "+ **tte_total :**  `número total de tiros de triple encestados`                 \n",
    "+ **porcentaje_tt_total :** `porcentaje del total de tiro de triple`\n",
    "+ **minutos_total :**  `minutos jugados en total` \n",
    "+ **reb_def_total :** `número total de rebotes defensivos`                  \n",
    "+ **reb_of_total :** `número total de rebotes ofensivos`            \n",
    "+ **rebotes_total :** `número total de reobotes`          \n",
    "+ **perdidas_total :** `número total de pérdidas de balón` \n",
    "+ **robos_total :** `número total de robos de balón`\n",
    "+ **faltas_pp :** `número total de faltas`\n",
    "+ **faltas_tecnicas_total :** `número total de faltas técnicas`"
   ]
  },
  {
   "cell_type": "markdown",
   "id": "a98b5fd5",
   "metadata": {},
   "source": [
    "## 5. Data Preparation & Data Cleaning"
   ]
  },
  {
   "cell_type": "markdown",
   "id": "037719bc",
   "metadata": {},
   "source": [
    "Para que el DataSet sobre el que se realizó el análisis estuviera lo más ordenado y estuviera lo más limpio posible, se hicieron cambios sobre determinadas valores en diferentes columnas de los DataFrames con al información conseguida de la API. \n",
    "\n",
    "\n",
    "Por ejemplo, se detectaron diversos errores en los datos (Ej. La temporada \"2021-2022\", el año de temporada rezaba \"2022-2023\", el cuál era incorrecto). Por otro lado, algunos datos se transformarond de tipo 'string' a tipo 'integer', ya que se necesitarían realizar operaciones con los mismo en el análisis explotario (Ej. El año de comienzo de la temporada (variable 'year'), o el año del draft (vairable 'draft_anio')). Y, por último, algunos datos se modificaron ya que combinaban valores numéricos con linguísticos (Ej. En la variable peso, se conglomeraban los valores como '90 kilogramos'. En este caso, se eliminó la palabra 'kilogramos' para solo tener un valor numérico).\n",
    "\n",
    "\n",
    "Al haber extraído los datos de la API de forma desgranada, se pudo etiquetar correctamente cada DataFrame con todos los datos estadísticos y personales de los jugadores de la NBA con el año de temporada y año de comienzo de la temporada al que correspondian. Al hacer esta unión, se crearon valores NaN en las columnas de 'temporada' y 'year', los cuales fueron sustituidos por el único valor que albergan estas columnas.\n",
    "\n",
    "\n",
    "Además de esto, no se encontraron más valores NaN o Null en el DataSet."
   ]
  },
  {
   "cell_type": "markdown",
   "id": "141a9bf7",
   "metadata": {},
   "source": [
    "## 6. Análisis de datos"
   ]
  },
  {
   "cell_type": "markdown",
   "id": "53c2e659",
   "metadata": {},
   "source": [
    "Para el análisis de los datos, primero se estudió la distribución de 2 de las variables más globales ('minutos_total'; 'puntos_total'). Se observó que hay una gran cantidad de jugadores en la NBA que juegan 0 minutos en total durante toda la temporada, o incluso juegan menos de un partido (31.4% han jugado menos minutos que los que corresponden a 10 partidos (480 minutos) desde el 2014 hasta 2022). Asimismo, sucede algo parecido con los puntos encestados en total: el 34.85% jugadores han encestado menos de 200 puntos entre el 2014 y el 2022.\n",
    "\n",
    "\n",
    "Por tanto, de estos datos se puede considerar que en la NBA hay muchos jugadores que forman parte de la plantilla, pero no tienen un desempeño brillante a lo largo de la temporada, ni en su carrera. Es más, por la distribución, tanto de los minutos totales jugados como de los puntos totales encestados, se podría decir que la mayor parte de los jugadores de la NBA son jugadores regulares. Cierto que se observa cierta estabilidad a mitad de la distribución, pero siendo los valores de ambas variables menores. Y, finalmente, en la parte izquierda de la distribución se conglomera un porcentaje de los jugadores más pequeño, pero también aquellos que más minutos juegan y más puntos encestan.  \n",
    "\n",
    "\n",
    "Por otra parte, cuando se hace un análisis por temporada de los minutos en total y de los puntos en total, se ve que en el año de la pandemia ambos fueron afectados con respecto al resto de años de temporada.\n",
    "\n",
    "\n",
    "Se ha analizado también el número de jugadores que formaron parte de la NBA por temporada, y se vió que hay 2 descensos claros en el número de participantes de la liga: uno en 2015-2016 (414 personas jugaron en la NBA); y otro en le año actual, 2022-2023 (470 personas jugaron en la NBA).\n",
    "\n",
    "\n",
    "Con respecto a otros aspectos, se quiso estudiar el reparto de jugadores por posición de juego. Las posiciones en de juego son clave para definir la estrategia de juego. Por tanto, también es una vairable que permite ver la evolución de este deporte.\n",
    "En este caso no se observaron grandes cambios en el reparto de las posiciones. Si es cierto que en esta última temporada las posiciones más globales (Ala-Escolta; Escolta-Alero; y en menos medida Ala-Pivot) se han reducido.\n",
    "\n",
    "\n",
    "Posteriormente, para evitar outliers y trabajar sobre datos que nos puedan aportar mayor valor, se creó un DataFrame ('df_nba') eliminando aquellas observaciones en las que la mayoría de sus variables los valores son igual a 0.\n",
    "\n",
    "Con este DataFrame actualizado se calculó la valoración de cada uno de los jugadores. Este valor es una puntuación global que se le da a cada uno de los jugadores en base a sus puntuaciones totales en sus estadísticos (asistencias + tapones + tiros de campo encestados + tiros libres encestados + tiros de triple encestados + puntos total  + rebotes + robos - tiros de campo intentados - tiros libres intentados - tiros de triple intentados - perdidas - faltas - faltas técnicas), dividido por el número de partidos jugados.\n",
    "\n",
    "\n",
    "A partir de obtener la valoración media de cada jugador o PIR medio, se hizo una comparativa entre la temporada 2018-2019, 2019-2020, 2020-2021. El resultado es que durante el año de la pandemia (2019-2020), la valoración total media disminuyó con respecto al año anterior y posterior.\n",
    "\n",
    "\n",
    "Otro análisis que se quiso realizar en este trabajo fue observar si existe una correlación lineal entre los años de experiencia medio de los jugadores con su PIR medio, y los años de experincia de cada equipo por tamporada con su PIR.\n",
    "En ambos casos el resultado fue claro: no existe correlación lineal entre los años de experiencia medio del jugador/del equipo con la valoración o el desempeño que vaya a tener ese jugador/ese equipo.\n",
    "Sin embargo, sí se observo que en el caso de los años de experiencia de los jugadores, estos consiguen mayores puntuaciones del PIR medio entre los 5 y 10 años de experiencia.\n",
    "\n",
    "\n",
    "En relación al PIR medio, también fue de interés entender si la altura y el peso de los jugadores afectan a esta puntuación. Por un lado, se encontró que a lo largo de estos últimos años, la altura de los jugadores de la NBA se ha mantenido, pero se buscan jugadores que pesen menos (la media de peso se ha reducido un poco más de 2 kilogramos).\n",
    "Por tanto, la relación PIR medio-altura-peso se distribuye de forma bastante homogénea, aunque se observa que la mayor cantidad de jugadores con un PIR medio más alto se encuentran entre los 2 metros de altura hasta los 2.17 metros, y pesan entre 95 kg y 131 kg.\n",
    "\n",
    "\n",
    "Además, se estudiaron los estadísticos de los jugadores que fueron número 1 en el ranking en cada una de las temporadas del DataFrame. Curiosamente, todos estos jugadores llegaron al puesto número 1 con estadísticos muy parecidos, a pesar de que su estilo de juego, posición de juego, años de experiencia, equipo al que pertenecen son muy diferentes. Si es cierto, y se ha de referir que en esta lista se repetin 3 nombres por lo menos 1 vez. Lo que permite entender que las métricas de los estadísticos puedan asemejarse tanto.\n",
    "\n",
    "\n",
    "Por último, se examinó y comparó la forma de juego por temporada en tanto al número de tiros de campo, tiros libres y tiros de tres intentados y encestados; así como la eficiencia de tiro.\n",
    "Es bastante interesante ver como actualmente el tiro de triple han ganado mucha más importancia contra los tiros de campo y tiros libres. Esto también explicaría que el baloncesto de la NBA actualmente busca jugadores que tengan mejores habilidades de tiro. Esto se observa en que la eficiencia media de tiro ha aumentado destacadamente en los últimos años, siendo en esta temporada actual mucho mayor que en las anteriores.\n",
    "Asimismo, en el año de la pandemia se ve un descenso en 'tiros intentados' y 'tiros encestados' de cualquier tipología con respecto a los años anteriores y posteriores."
   ]
  },
  {
   "cell_type": "markdown",
   "id": "2ede2c67",
   "metadata": {},
   "source": [
    "## 7. Conclusiones"
   ]
  },
  {
   "cell_type": "markdown",
   "id": "17a2b301",
   "metadata": {},
   "source": [
    "1- El año del COVID-19 (2019-2020) afectó al desempeño de los jugadores de la NBA, así como a la competitividad de la liga: \n",
    "\n",
    "        \n",
    "+ El total de minutos jugados esa temporada ha sido el menor en la temporada 2019-2020.\n",
    "                \n",
    "+ El total de puntos en la temporada 2019-2020 tambíen es menor con respecto a otras temporadas.\n",
    "                \n",
    "+ La media del PIR global de los jugadores es más baja (7.06) en el año del COVID-19 en comparación con el año anterior y el posterior.\n",
    "                \n",
    "        \n",
    "\n",
    "2- Se ha reducido el número de jugadores que forman parte de la liga de la NBA desde la temporada 2017-2018.\n",
    "        \n",
    "        \n",
    "\n",
    "3- El enfoque de juego ha cambiado a lo largo de estos últimos 8 años: \n",
    "        \n",
    "+ Ha disminuido el fichaje de jugadores que ocupan posiciones menos especializadas (Ala-Escolta; Escolta-Alero; y en menos medida Ala-Pivot).\n",
    "                \n",
    "+ Los jugadores de la NBA han cambiado en términos fisiológicos (se requiere que jugadores sean igual de altos pero que pesen menos).\n",
    "                \n",
    "+ Se ha observado que en los últimos años, especialmente en la temporada 2022-2023, ha aumentado el número de tiros de triple y el de tiros libres intentados y encestados. Esto también indica a su vez que se comenten más faltas en las que el jugador al que se le realiza la falta acude al tiro libre.\n",
    "                \n",
    "            \n",
    "4- No se puede afirmar que exista correlación lineal entre la media de los años de experiencia de los jugadores y su valoración/PIR medio, aunque se observa que los datos se distribuyen con forma de parábola.\n",
    "           \n",
    "5- No se ha podido demostrar que exista correlación lineal entre la media de los años de experiencia del equipo y su su valoración/PIR medio.\n",
    "\n",
    "6- Se ha observado que los jugadores que se encuentran alrededor de los 2 metros de altura hasta los 2.17 metros, y que pesan entre 95 kg y 131 kg son los que mayor valoración tienen.\n",
    "\n",
    "7- Por último, se ha comprobado que los jugadores de la NBA que ocupan el número 1 del ranking desde la temporada 2014-2015 hasta la temporada (2021-2022) son perfiles muy similares en términos de valoración (PIR medio), partidos jugados y los siguientes estadísticos: asistencias por partido, total de rebotes por partido, \teficiencia de tiro por partido y puntos por partido."
   ]
  },
  {
   "cell_type": "markdown",
   "id": "3e7d2d72",
   "metadata": {},
   "source": [
    "## 8. Recomendaciones"
   ]
  },
  {
   "cell_type": "markdown",
   "id": "5812be18",
   "metadata": {},
   "source": [
    "Se podrían obtener datos de mayor antigüedad para analizar más aspectos en los que la NBA haya cambiado su enfoque de juego y de cara a contar con más datos para hacer predicciones más precisas."
   ]
  },
  {
   "cell_type": "markdown",
   "id": "ad3e9f86",
   "metadata": {},
   "source": [
    "## 9. Limitaciones técnicas"
   ]
  },
  {
   "cell_type": "markdown",
   "id": "5d25d080",
   "metadata": {},
   "source": [
    "Principales limitaciones:\n",
    "\n",
    " - La primera de ellas está relacionada con la obtención de los datos. En el Notebook denominado \"EDA_Data\", se encontrará un apartado extra denominado *Bonus Track*. Este contiene el primer código que desarrollé para extraer los datos de la API. Sin embargo, siempre saltaba un error en el kernel relacionado con la capacidad de datos que es capaz de extraer. \n",
    " \n",
    "   Pude solucionarlo, pero tenía que hacer modificaciones en el kernel siempre que iba a trabajar sobre el EDA, de forma que decidí extraer los datos de la API de una manera más desgranada y a través de diversas funciones. Por una parte, para evitar tener que gestionar este error siempre que quisiera continuar con el proyecto; y por otra, para asegurarme de que la calidad del DataSet final conformado con todos los DataFrames de datos extraídos estaban limpios y bien organizados.\n",
    "   \n",
    "        \n",
    "  - La segunda refiere a la API de la NBA. Esta proporciona mucha información sobre los datos personales y estadísticos de los jugadores. Sin embargo, esta información se ha comprobado ser de mejor calidad en los años de temporada más recientes, mientras que en años más lejanos al actual las métricas son menos exactas o incluso inexistentes.\n",
    "  \n",
    "  \n",
    "  - Por último, al trabajar con datos que se actualizan cada semana (la temporada 2022-2023 se está jugando en este momento), el proceso de Data Cleaning ha sido más tedioso en ciertos puntos porque se ha evitado hacer cambios en el DataFrame sobre los índices de las filas, ya que dichos índices podían verse modificados al actualizarse la inforamción. Por ello, los cambios se han llevado a cabo sobre valores únicos de cada fila como el nombre del jugador, el id del jugador, etc."
   ]
  },
  {
   "cell_type": "markdown",
   "id": "8090ba2e",
   "metadata": {},
   "source": [
    "## 10. Referencias"
   ]
  },
  {
   "cell_type": "markdown",
   "id": "ab5fea9b",
   "metadata": {},
   "source": [
    "+ Web inspeccionada para obtener la API de la NBA: https://es.global.nba.com/statistics/\n",
    "+ Glosario de abreviaciones de los estadísticios de la NBA: https://www.nba.com/stats/help/glossary\n",
    "+ Definición de *valoración*: https://es.wikipedia.org/wiki/Valoraci%C3%B3n\n",
    "+ Definición de *eficiencia*: https://es.wikipedia.org/wiki/Eficiencia_(baloncesto)#:~:text=Se%20calcula%20como%3A,Tapones%20Recibidos%20%2B%20Faltas%20Realizadas"
   ]
  }
 ],
 "metadata": {
  "kernelspec": {
   "display_name": "Python 3 (ipykernel)",
   "language": "python",
   "name": "python3"
  },
  "language_info": {
   "codemirror_mode": {
    "name": "ipython",
    "version": 3
   },
   "file_extension": ".py",
   "mimetype": "text/x-python",
   "name": "python",
   "nbconvert_exporter": "python",
   "pygments_lexer": "ipython3",
   "version": "3.10.4"
  }
 },
 "nbformat": 4,
 "nbformat_minor": 5
}
